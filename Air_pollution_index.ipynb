{
 "cells": [
  {
   "cell_type": "code",
   "execution_count": null,
   "metadata": {},
   "outputs": [],
   "source": [
    "import pandas as pd\n",
    "from sklearn.linear_model import LinearRegression"
   ]
  },
  {
   "cell_type": "code",
   "execution_count": null,
   "metadata": {},
   "outputs": [],
   "source": [
    "train = pd.read_csv(r\"train.csv\")\n",
    "test = pd.read_csv(r\"test.csv\")"
   ]
  },
  {
   "cell_type": "code",
   "execution_count": null,
   "metadata": {},
   "outputs": [],
   "source": [
    "train.head()"
   ]
  },
  {
   "cell_type": "code",
   "execution_count": null,
   "metadata": {},
   "outputs": [],
   "source": [
    "x = train.drop([\"date_time\", \"air_pollution_index\"], axis = 1)"
   ]
  },
  {
   "cell_type": "code",
   "execution_count": null,
   "metadata": {},
   "outputs": [],
   "source": [
    "y = train[\"air_pollution_index\"]"
   ]
  },
  {
   "cell_type": "code",
   "execution_count": null,
   "metadata": {},
   "outputs": [],
   "source": [
    "x = x.replace(\"Christmas Day\", 0)\n",
    "x = x.replace(\"Veterans Day\", 0)\n",
    "x = x.replace(\"Washingtons Birthday\", 0)\n",
    "x = x.replace(\"Columbus Day\", 0)\n",
    "x = x.replace(\"None\", 1)\n",
    "x = x.replace(\"Thanksgiving Day\", 0)\n",
    "x = x.replace(\"State Fair\", 0)\n",
    "x = x.replace(\"Memorial Day\", 0)\n",
    "x = x.replace(\"Independence Day\", 0)\n",
    "x = x.replace(\"Labor Day\", 0)\n",
    "x = x.replace(\"New Years Day\", 0)\n",
    "x = x.replace(\"Martin Luther King Jr Day\", 0)\n",
    "\n",
    "x = x.replace(\"Smoke\", 1)\n",
    "x = x.replace(\"Thunderstorm\", 7.5)\n",
    "x = x.replace(\"Haze\", 3.5)\n",
    "x = x.replace(\"Rain\", 5)\n",
    "x = x.replace(\"Drizzle\", 2)\n",
    "x = x.replace(\"Mist\", 3)\n",
    "x = x.replace(\"Clouds\", 4)\n",
    "x = x.replace(\"Clear\", 4.5)\n",
    "x = x.replace(\"Fog\", 1)\n",
    "x = x.replace(\"Snow\", 6)\n",
    "x = x.replace(\"Squall\",0)"
   ]
  },
  {
   "cell_type": "code",
   "execution_count": null,
   "metadata": {},
   "outputs": [],
   "source": [
    "test = test.replace(\"Christmas Day\", 0)\n",
    "test = test.replace(\"Veterans Day\", 0)\n",
    "test = test.replace(\"Washingtons Birthday\", 0)\n",
    "test = test.replace(\"Columbus Day\", 0)\n",
    "test = test.replace(\"None\", 1)\n",
    "test = test.replace(\"Thanksgiving Day\", 0)\n",
    "test = test.replace(\"State Fair\", 0)\n",
    "test = test.replace(\"Memorial Day\", 0)\n",
    "test = test.replace(\"Independence Day\", 0)\n",
    "test = test.replace(\"Labor Day\", 0)\n",
    "test = test.replace(\"New Years Day\", 0)\n",
    "test = test.replace(\"Martin Luther King Jr Day\", 0)\n",
    "\n",
    "\n",
    "test = test.replace(\"Smoke\", 1)\n",
    "test = test.replace(\"Thunderstorm\", 7.5)\n",
    "test = test.replace(\"Haze\", 3.5)\n",
    "test = test.replace(\"Rain\", 5)\n",
    "test = test.replace(\"Drizzle\", 2)\n",
    "test = test.replace(\"Mist\", 3)\n",
    "test = test.replace(\"Clouds\", 4)\n",
    "test = test.replace(\"Clear\", 4.5)\n",
    "test = test.replace(\"Fog\", 1)\n",
    "test = test.replace(\"Snow\", 6)\n",
    "test = test.replace(\"Squall\", 0)"
   ]
  },
  {
   "cell_type": "code",
   "execution_count": null,
   "metadata": {},
   "outputs": [],
   "source": [
    "x_train = x.values"
   ]
  },
  {
   "cell_type": "code",
   "execution_count": null,
   "metadata": {},
   "outputs": [],
   "source": [
    "y_train = y.values"
   ]
  },
  {
   "cell_type": "code",
   "execution_count": null,
   "metadata": {},
   "outputs": [],
   "source": [
    "x_test = test.drop(['date_time'], axis = 1).values"
   ]
  },
  {
   "cell_type": "code",
   "execution_count": null,
   "metadata": {},
   "outputs": [],
   "source": [
    "reg = LinearRegression()"
   ]
  },
  {
   "cell_type": "code",
   "execution_count": null,
   "metadata": {},
   "outputs": [],
   "source": [
    "reg.fit(x_train, y_train)"
   ]
  },
  {
   "cell_type": "code",
   "execution_count": null,
   "metadata": {},
   "outputs": [],
   "source": [
    "y_pred = reg.predict(x_test)"
   ]
  },
  {
   "cell_type": "code",
   "execution_count": null,
   "metadata": {},
   "outputs": [],
   "source": [
    "pred_df = test['date_time']"
   ]
  },
  {
   "cell_type": "code",
   "execution_count": null,
   "metadata": {},
   "outputs": [],
   "source": [
    "pred_df = pd.DataFrame(pred_df)"
   ]
  },
  {
   "cell_type": "code",
   "execution_count": null,
   "metadata": {},
   "outputs": [],
   "source": [
    "pred_df['air_pollution_index'] = y_pred"
   ]
  },
  {
   "cell_type": "code",
   "execution_count": null,
   "metadata": {},
   "outputs": [],
   "source": [
    "pred_df.head()"
   ]
  },
  {
   "cell_type": "code",
   "execution_count": null,
   "metadata": {},
   "outputs": [],
   "source": [
    "pred_df.to_csv('predictions.csv', index = False)"
   ]
  }
 ],
 "metadata": {
  "kernelspec": {
   "display_name": "Python 3",
   "language": "python",
   "name": "python3"
  },
  "language_info": {
   "codemirror_mode": {
    "name": "ipython",
    "version": 3
   },
   "file_extension": ".py",
   "mimetype": "text/x-python",
   "name": "python",
   "nbconvert_exporter": "python",
   "pygments_lexer": "ipython3",
   "version": "3.7.3"
  }
 },
 "nbformat": 4,
 "nbformat_minor": 2
}
